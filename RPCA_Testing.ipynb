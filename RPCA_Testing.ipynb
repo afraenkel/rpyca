{
 "metadata": {
  "name": "",
  "signature": "sha256:ffb2ecbb8d3eef8d1127502bce2ba4f8ac6b42b497b40b7670bda6b429156235"
 },
 "nbformat": 3,
 "nbformat_minor": 0,
 "worksheets": [
  {
   "cells": [
    {
     "cell_type": "markdown",
     "metadata": {},
     "source": [
      "# Robust PCA Example"
     ]
    },
    {
     "cell_type": "markdown",
     "metadata": {},
     "source": [
      "Robust PCA is an awesome relatively new method for factoring a matrix into a low rank component and a sparse component.  This enables really neat applications for outlier detection, or models that are robust to outliers."
     ]
    },
    {
     "cell_type": "code",
     "collapsed": false,
     "input": [
      "%matplotlib inline"
     ],
     "language": "python",
     "metadata": {},
     "outputs": [],
     "prompt_number": 295
    },
    {
     "cell_type": "markdown",
     "metadata": {},
     "source": [
      "### Make Some Toy Data"
     ]
    },
    {
     "cell_type": "code",
     "collapsed": false,
     "input": [
      "import matplotlib.pyplot as plt\n",
      "import numpy as np"
     ],
     "language": "python",
     "metadata": {},
     "outputs": [],
     "prompt_number": 296
    },
    {
     "cell_type": "code",
     "collapsed": false,
     "input": [
      "def mk_rot_mat(rad=np.pi / 4):\n",
      "    rot = np.array([[np.cos(rad),-np.sin(rad)], [np.sin(rad), np.cos(rad)]])\n",
      "    return rot"
     ],
     "language": "python",
     "metadata": {},
     "outputs": [],
     "prompt_number": 297
    },
    {
     "cell_type": "code",
     "collapsed": false,
     "input": [
      "rot_mat = mk_rot_mat( np.pi / 4)\n",
      "x = np.random.randn(100) * 5\n",
      "y = np.random.randn(100)\n",
      "points = np.vstack([y,x])"
     ],
     "language": "python",
     "metadata": {},
     "outputs": [],
     "prompt_number": 298
    },
    {
     "cell_type": "code",
     "collapsed": false,
     "input": [
      "rotated = np.dot(points.T, rot_mat).T"
     ],
     "language": "python",
     "metadata": {},
     "outputs": [],
     "prompt_number": 299
    },
    {
     "cell_type": "markdown",
     "metadata": {},
     "source": [
      "### Add Some Outliers to Make Life Difficult"
     ]
    },
    {
     "cell_type": "code",
     "collapsed": false,
     "input": [
      "outliers = np.tile([15,-10], 10).reshape((-1,2))"
     ],
     "language": "python",
     "metadata": {},
     "outputs": [],
     "prompt_number": 300
    },
    {
     "cell_type": "code",
     "collapsed": false,
     "input": [
      "pts = np.vstack([rotated.T, outliers]).T"
     ],
     "language": "python",
     "metadata": {},
     "outputs": [],
     "prompt_number": 301
    },
    {
     "cell_type": "markdown",
     "metadata": {},
     "source": [
      "### Compute SVD on both the clean data and the outliery data"
     ]
    },
    {
     "cell_type": "code",
     "collapsed": false,
     "input": [
      "U,s,Vt = np.linalg.svd(rotated)\n",
      "U_n,s_n,Vt_n = np.linalg.svd(pts)"
     ],
     "language": "python",
     "metadata": {},
     "outputs": [],
     "prompt_number": 302
    },
    {
     "cell_type": "markdown",
     "metadata": {},
     "source": [
      "### Just 10 outliers can really screw up our line fit!"
     ]
    },
    {
     "cell_type": "code",
     "collapsed": false,
     "input": [
      "plt.ylim([-20,20])\n",
      "plt.xlim([-20,20])\n",
      "plt.scatter(*pts)\n",
      "pts0 = np.dot(U[0].reshape((2,1)), np.array([-20,20]).reshape((1,2)))\n",
      "plt.plot(*pts0)\n",
      "pts1 = np.dot(U_n[0].reshape((2,1)), np.array([-20,20]).reshape((1,2)))\n",
      "plt.plot(*pts1, c='r')"
     ],
     "language": "python",
     "metadata": {},
     "outputs": [
      {
       "metadata": {},
       "output_type": "pyout",
       "prompt_number": 303,
       "text": [
        "[<matplotlib.lines.Line2D at 0x110259750>]"
       ]
      },
      {
       "metadata": {},
       "output_type": "display_data",
       "png": "[encoded data removed]",
       "text": [
        "<matplotlib.figure.Figure at 0x110177850>"
       ]
      }
     ],
     "prompt_number": 303
    },
    {
     "cell_type": "markdown",
     "metadata": {},
     "source": [
      "### Now the robust pca version!"
     ]
    },
    {
     "cell_type": "code",
     "collapsed": false,
     "input": [
      "import rpca"
     ],
     "language": "python",
     "metadata": {},
     "outputs": [],
     "prompt_number": 304
    },
    {
     "cell_type": "code",
     "collapsed": false,
     "input": [
      "reload(rpca)"
     ],
     "language": "python",
     "metadata": {},
     "outputs": [
      {
       "metadata": {},
       "output_type": "pyout",
       "prompt_number": 305,
       "text": [
        "<module 'rpca' from 'rpca.pyc'>"
       ]
      }
     ],
     "prompt_number": 305
    },
    {
     "cell_type": "markdown",
     "metadata": {},
     "source": [
      "### Factor the matrix into L (low rank) and S (sparse) parts"
     ]
    },
    {
     "cell_type": "code",
     "collapsed": false,
     "input": [
      "L,S = rpca.rpca(pts)"
     ],
     "language": "python",
     "metadata": {},
     "outputs": [],
     "prompt_number": 306
    },
    {
     "cell_type": "markdown",
     "metadata": {},
     "source": [
      "### Run SVD on the Low Rank Part"
     ]
    },
    {
     "cell_type": "code",
     "collapsed": false,
     "input": [
      "U,s,Vt = np.linalg.svd(L)"
     ],
     "language": "python",
     "metadata": {},
     "outputs": [],
     "prompt_number": 311
    },
    {
     "cell_type": "markdown",
     "metadata": {},
     "source": [
      "### And have a look at this!"
     ]
    },
    {
     "cell_type": "code",
     "collapsed": false,
     "input": [
      "plt.ylim([-20,20])\n",
      "plt.xlim([-20,20])\n",
      "plt.scatter(*pts)\n",
      "pts0 = np.dot(U[0].reshape((2,1)), np.array([-20,20]).reshape((1,2)))\n",
      "plt.plot(*pts0)\n",
      "plt.scatter(*L, c='red')"
     ],
     "language": "python",
     "metadata": {},
     "outputs": [
      {
       "metadata": {},
       "output_type": "pyout",
       "prompt_number": 312,
       "text": [
        "<matplotlib.collections.PathCollection at 0x110a26d10>"
       ]
      },
      {
       "metadata": {},
       "output_type": "display_data",
       "png": "[encoded data removed]",
       "text": [
        "<matplotlib.figure.Figure at 0x1106404d0>"
       ]
      }
     ],
     "prompt_number": 312
    },
    {
     "cell_type": "markdown",
     "metadata": {},
     "source": [
      "### Have a look at the factored components..."
     ]
    },
    {
     "cell_type": "code",
     "collapsed": false,
     "input": [
      "plt.ylim([-20,20])\n",
      "plt.xlim([-20,20])\n",
      "plt.scatter(*L)\n",
      "plt.scatter(*S, c='red')"
     ],
     "language": "python",
     "metadata": {},
     "outputs": [
      {
       "metadata": {},
       "output_type": "pyout",
       "prompt_number": 309,
       "text": [
        "<matplotlib.collections.PathCollection at 0x1105d0150>"
       ]
      },
      {
       "metadata": {},
       "output_type": "display_data",
       "png": "[encoded data removed]",
       "text": [
        "<matplotlib.figure.Figure at 0x110014990>"
       ]
      }
     ],
     "prompt_number": 309
    },
    {
     "cell_type": "markdown",
     "metadata": {},
     "source": [
      "### It really does add back to the original matrix!"
     ]
    },
    {
     "cell_type": "code",
     "collapsed": false,
     "input": [
      "plt.ylim([-20,20])\n",
      "plt.xlim([-20,20])\n",
      "plt.scatter(*(L+S))"
     ],
     "language": "python",
     "metadata": {},
     "outputs": [
      {
       "metadata": {},
       "output_type": "pyout",
       "prompt_number": 310,
       "text": [
        "<matplotlib.collections.PathCollection at 0x1106e69d0>"
       ]
      },
      {
       "metadata": {},
       "output_type": "display_data",
       "png": "[encoded data removed]",
       "text": [
        "<matplotlib.figure.Figure at 0x110617450>"
       ]
      }
     ],
     "prompt_number": 310
    },
    {
     "cell_type": "code",
     "collapsed": false,
     "input": [],
     "language": "python",
     "metadata": {},
     "outputs": [],
     "prompt_number": 310
    }
   ],
   "metadata": {}
  }
 ]
}